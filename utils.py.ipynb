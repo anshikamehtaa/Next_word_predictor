{
 "cells": [
  {
   "cell_type": "code",
   "execution_count": 9,
   "id": "40fe2ae2",
   "metadata": {},
   "outputs": [],
   "source": [
    "import pickle\n",
    "import pandas as pd\n",
    "import requests\n",
    "import tensorflow as tf\n",
    "import numpy as np\n",
    "\n",
    "df = pd.read_csv('tmdb_5000_movies.csv')\n",
    "df = df['original_title']\n",
    "\n",
    "movie_name = df.to_list()\n",
    "\n",
    "tokenizer = tf.keras.preprocessing.text.Tokenizer()\n",
    "tokenizer.fit_on_texts(movie_name)\n",
    "seq = tokenizer.texts_to_sequences(movie_name)"
   ]
  },
  {
   "cell_type": "code",
   "execution_count": 12,
   "id": "e022f853",
   "metadata": {},
   "outputs": [],
   "source": [
    "def make_prediction(text, n_words):\n",
    "    model = pickle.load(open(\"model.pkl\",'rb'))\n",
    "    vocab_array = np.array(list(tokenizer.word_index.keys()))\n",
    "    for i in range(n_words):\n",
    "        text_tokenize = tokenizer.texts_to_sequences([text])\n",
    "        text_padded = tf.keras.preprocessing.sequence.pad_sequences(text_tokenize, maxlen=14)\n",
    "        prediction = np.squeeze(np.argmax(model.predict(text_padded), axis=-1))\n",
    "        prediction = str(vocab_array[prediction - 1])\n",
    "        print(vocab_array[np.argsort(model.predict(text_padded)) - 1].ravel()[:-3])\n",
    "        text += \" \" + prediction\n",
    "    return text"
   ]
  },
  {
   "cell_type": "code",
   "execution_count": 13,
   "id": "7bfc6e35",
   "metadata": {},
   "outputs": [
    {
     "name": "stdout",
     "output_type": "stream",
     "text": [
      "1/1 [==============================] - 2s 2s/step\n",
      "1/1 [==============================] - 0s 69ms/step\n",
      "['woodstock' 'rumble' 'davidson' ... 'fat' 'hero' 'dangerous']\n",
      "1/1 [==============================] - 0s 108ms/step\n",
      "1/1 [==============================] - 0s 57ms/step\n",
      "['budapest' 'deedles' 'cobbler' ... 'of' '4' '1']\n",
      "1/1 [==============================] - 0s 75ms/step\n",
      "1/1 [==============================] - 0s 51ms/step\n",
      "['strong' 'incredibles' 'dynamite' ... 'ever' 'boys' 'life']\n",
      "1/1 [==============================] - 0s 55ms/step\n",
      "1/1 [==============================] - 0s 57ms/step\n",
      "['3000' 'mcphee' 'oss' ... \"philosopher's\" 'chamber' 'order']\n",
      "1/1 [==============================] - 0s 52ms/step\n",
      "1/1 [==============================] - 0s 50ms/step\n",
      "['delivered' 'mist' 'deed' ... 'continues' 'and' '1']\n",
      "1/1 [==============================] - 0s 75ms/step\n",
      "1/1 [==============================] - 0s 51ms/step\n",
      "['claim' 'prehistoric' 'croods' ... 'low' 'khan' 'the']\n"
     ]
    },
    {
     "data": {
      "text/plain": [
       "'Harry potter and the prisoner of azkaban'"
      ]
     },
     "execution_count": 13,
     "metadata": {},
     "output_type": "execute_result"
    }
   ],
   "source": [
    "make_prediction(\"Harry\",6)"
   ]
  },
  {
   "cell_type": "code",
   "execution_count": null,
   "id": "4fb195dc",
   "metadata": {},
   "outputs": [],
   "source": []
  },
  {
   "cell_type": "code",
   "execution_count": null,
   "id": "480c4e86",
   "metadata": {},
   "outputs": [],
   "source": []
  }
 ],
 "metadata": {
  "kernelspec": {
   "display_name": "Python 3 (ipykernel)",
   "language": "python",
   "name": "python3"
  },
  "language_info": {
   "codemirror_mode": {
    "name": "ipython",
    "version": 3
   },
   "file_extension": ".py",
   "mimetype": "text/x-python",
   "name": "python",
   "nbconvert_exporter": "python",
   "pygments_lexer": "ipython3",
   "version": "3.10.2"
  }
 },
 "nbformat": 4,
 "nbformat_minor": 5
}

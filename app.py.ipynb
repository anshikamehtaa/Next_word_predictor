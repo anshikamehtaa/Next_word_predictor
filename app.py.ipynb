{
 "cells": [
  {
   "cell_type": "code",
   "execution_count": 7,
   "id": "3c0b7dc2",
   "metadata": {},
   "outputs": [
    {
     "ename": "ModuleNotFoundError",
     "evalue": "No module named 'utils'",
     "output_type": "error",
     "traceback": [
      "\u001b[1;31m---------------------------------------------------------------------------\u001b[0m",
      "\u001b[1;31mModuleNotFoundError\u001b[0m                       Traceback (most recent call last)",
      "\u001b[1;32m~\\AppData\\Local\\Temp/ipykernel_14284/2392418827.py\u001b[0m in \u001b[0;36m<module>\u001b[1;34m\u001b[0m\n\u001b[0;32m      1\u001b[0m \u001b[1;32mfrom\u001b[0m \u001b[0mflask\u001b[0m \u001b[1;32mimport\u001b[0m \u001b[0mFlask\u001b[0m\u001b[1;33m,\u001b[0m \u001b[0mrequest\u001b[0m\u001b[1;33m,\u001b[0m \u001b[0mjsonify\u001b[0m\u001b[1;33m\u001b[0m\u001b[1;33m\u001b[0m\u001b[0m\n\u001b[0;32m      2\u001b[0m \u001b[1;32mfrom\u001b[0m \u001b[0mflask_cors\u001b[0m \u001b[1;32mimport\u001b[0m \u001b[0mCORS\u001b[0m\u001b[1;33m,\u001b[0m \u001b[0mcross_origin\u001b[0m\u001b[1;33m\u001b[0m\u001b[1;33m\u001b[0m\u001b[0m\n\u001b[1;32m----> 3\u001b[1;33m \u001b[1;32mimport\u001b[0m \u001b[0mutils\u001b[0m\u001b[1;33m\u001b[0m\u001b[1;33m\u001b[0m\u001b[0m\n\u001b[0m\u001b[0;32m      4\u001b[0m \u001b[0mapp\u001b[0m \u001b[1;33m=\u001b[0m \u001b[0mFlask\u001b[0m\u001b[1;33m(\u001b[0m\u001b[0m__name__\u001b[0m\u001b[1;33m)\u001b[0m\u001b[1;33m\u001b[0m\u001b[1;33m\u001b[0m\u001b[0m\n\u001b[0;32m      5\u001b[0m \u001b[0mCORS\u001b[0m\u001b[1;33m(\u001b[0m\u001b[0mapp\u001b[0m\u001b[1;33m)\u001b[0m\u001b[1;33m\u001b[0m\u001b[1;33m\u001b[0m\u001b[0m\n",
      "\u001b[1;31mModuleNotFoundError\u001b[0m: No module named 'utils'"
     ]
    }
   ],
   "source": [
    "from flask import Flask, request, jsonify\n",
    "from flask_cors import CORS, cross_origin\n",
    "import utils.py.ipynb \n",
    "\n",
    "app = Flask(__name__)\n",
    "CORS(app)\n",
    "app.config['CORS_HEADERS'] = 'Content-Type'\n",
    "app.config['CORS_ORIGINS'] = ['http://localhost:3000']\n",
    "app.config['Access-Control-Allow-Origin'] = '*'\n",
    "\n",
    "@app.route('/')\n",
    "@cross_origin()\n",
    "def hello_world():\n",
    "    return 'Hello, World! Server is running...';\n",
    "\n",
    "@app.route('/predict', methods=['POST'])\n",
    "@cross_origin()\n",
    "def predict():\n",
    "    print(\"Request received\")\n",
    "    data = request.json.get('data')\n",
    "    print(data)\n",
    "    response = utils.make_prediction(\"Harry\",6)\n",
    "    print(response)\n",
    "    return jsonify(response)\n",
    "\n",
    "\n",
    "if __name__ == '__main__':\n",
    "    print(\"Starting Python Flask Server For Diabetes Prediction...\")\n",
    "    app.run(port=5500)"
   ]
  },
  {
   "cell_type": "code",
   "execution_count": 3,
   "id": "1dd4f9df",
   "metadata": {},
   "outputs": [
    {
     "name": "stdout",
     "output_type": "stream",
     "text": [
      "Collecting flask_cors\n",
      "  Downloading Flask_Cors-4.0.0-py2.py3-none-any.whl (14 kB)\n",
      "Requirement already satisfied: Flask>=0.9 in c:\\users\\anshi\\appdata\\local\\programs\\python\\python310\\lib\\site-packages (from flask_cors) (2.0.3)\n",
      "Requirement already satisfied: Jinja2>=3.0 in c:\\users\\anshi\\appdata\\local\\programs\\python\\python310\\lib\\site-packages (from Flask>=0.9->flask_cors) (3.0.3)\n",
      "Requirement already satisfied: Werkzeug>=2.0 in c:\\users\\anshi\\appdata\\local\\programs\\python\\python310\\lib\\site-packages (from Flask>=0.9->flask_cors) (2.0.3)\n",
      "Requirement already satisfied: click>=7.1.2 in c:\\users\\anshi\\appdata\\local\\programs\\python\\python310\\lib\\site-packages (from Flask>=0.9->flask_cors) (8.0.3)\n",
      "Note: you may need to restart the kernel to use updated packages.\n"
     ]
    },
    {
     "name": "stderr",
     "output_type": "stream",
     "text": [
      "\n",
      "[notice] A new release of pip is available: 23.0 -> 23.1.2\n",
      "[notice] To update, run: python.exe -m pip install --upgrade pip\n"
     ]
    },
    {
     "name": "stdout",
     "output_type": "stream",
     "text": [
      "Requirement already satisfied: itsdangerous>=2.0 in c:\\users\\anshi\\appdata\\local\\programs\\python\\python310\\lib\\site-packages (from Flask>=0.9->flask_cors) (2.0.1)\n",
      "Requirement already satisfied: colorama in c:\\users\\anshi\\appdata\\local\\programs\\python\\python310\\lib\\site-packages (from click>=7.1.2->Flask>=0.9->flask_cors) (0.4.4)\n",
      "Requirement already satisfied: MarkupSafe>=2.0 in c:\\users\\anshi\\appdata\\local\\programs\\python\\python310\\lib\\site-packages (from Jinja2>=3.0->Flask>=0.9->flask_cors) (2.0.1)\n",
      "Installing collected packages: flask_cors\n",
      "Successfully installed flask_cors-4.0.0\n"
     ]
    }
   ],
   "source": [
    "\n"
   ]
  },
  {
   "cell_type": "code",
   "execution_count": null,
   "id": "0ede88de",
   "metadata": {},
   "outputs": [],
   "source": []
  }
 ],
 "metadata": {
  "kernelspec": {
   "display_name": "Python 3 (ipykernel)",
   "language": "python",
   "name": "python3"
  },
  "language_info": {
   "codemirror_mode": {
    "name": "ipython",
    "version": 3
   },
   "file_extension": ".py",
   "mimetype": "text/x-python",
   "name": "python",
   "nbconvert_exporter": "python",
   "pygments_lexer": "ipython3",
   "version": "3.10.2"
  }
 },
 "nbformat": 4,
 "nbformat_minor": 5
}
